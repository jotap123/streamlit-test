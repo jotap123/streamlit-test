{
 "cells": [
  {
   "cell_type": "code",
   "execution_count": 1,
   "id": "cff2d90d-8026-4965-8b97-35f3cf565c4f",
   "metadata": {},
   "outputs": [
    {
     "data": {
      "text/plain": [
       "True"
      ]
     },
     "execution_count": 1,
     "metadata": {},
     "output_type": "execute_result"
    }
   ],
   "source": [
    "import warnings\n",
    "import dotenv\n",
    "import pandas as pd\n",
    "import numpy as np\n",
    "import matplotlib.pyplot as plt\n",
    "import seaborn as sns\n",
    "import streamlit as st\n",
    "\n",
    "from paeio import io\n",
    "from xgboost import XGBClassifier\n",
    "\n",
    "pd.set_option('display.max_columns', None)\n",
    "warnings.filterwarnings('ignore')\n",
    "dotenv.load_dotenv()"
   ]
  },
  {
   "cell_type": "code",
   "execution_count": 2,
   "id": "66fab300-a601-41be-a01f-39559a9626ff",
   "metadata": {},
   "outputs": [],
   "source": [
    "model = io.read_any('https://testmlopaes.dfs.core.windows.net/testing/refined/deploy/fraud_model.pkl', func=pd.read_pickle)"
   ]
  },
  {
   "cell_type": "code",
   "execution_count": 4,
   "id": "eeff80ac-aea6-4853-97df-3c4d552f4999",
   "metadata": {},
   "outputs": [],
   "source": [
    "cols = model.feature_names_in_"
   ]
  },
  {
   "cell_type": "code",
   "execution_count": 5,
   "id": "ccee6c84-ebee-494b-b516-c14947827932",
   "metadata": {},
   "outputs": [
    {
     "data": {
      "text/plain": [
       "array(['distance_from_home', 'distance_from_last_transaction',\n",
       "       'ratio_to_median_purchase_price', 'repeat_retailer', 'used_chip',\n",
       "       'used_pin_number', 'online_order'], dtype='<U30')"
      ]
     },
     "execution_count": 5,
     "metadata": {},
     "output_type": "execute_result"
    }
   ],
   "source": [
    "cols"
   ]
  },
  {
   "cell_type": "code",
   "execution_count": null,
   "id": "73506484-986a-47c6-b0cd-6cf439811646",
   "metadata": {},
   "outputs": [],
   "source": [
    "def main(): \n",
    "    st.title(\"Fraud Predictor\")\n",
    "    html_temp = \"\"\"\n",
    "    <div style=\"background:#025246 ;padding:10px\">\n",
    "    <h2 style=\"color:white;text-align:center;\">Fraud Prediction App </h2>\n",
    "    </div>\n",
    "    \"\"\"\n",
    "    st.markdown(html_temp, unsafe_allow_html = True)\n",
    "    \n",
    "    distance_from_home = st.text_input(\"distance_from_home\",\"0\") \n",
    "    distance_from_last_transaction = st.text_input(\"distance_from_last_transaction\", \"0\")\n",
    "    ratio_to_median_purchase_price = st.text_input(\"ratio_to_median_purchase_price\", \"0\")\n",
    "    repeat_retailer = st.selectbox(\"repeat_retailer\",[\"0\", \"1\"])\n",
    "    used_chip = st.selectbox(\"used_chip\",[\"0\", \"1\"])\n",
    "    used_pin_number = st.selectbox(\"used_pin_number\",[\"0\", \"1\"]) \n",
    "    online_order = st.selectbox(\"online_order\",[\"0\", \"1\"]) \n",
    "    \n",
    "    if st.button(\"Predict\"): \n",
    "        features = [\n",
    "            distance_from_home,\n",
    "            distance_from_last_transaction,\n",
    "            ratio_to_median_purchase_price,\n",
    "            repeat_retailer,\n",
    "            used_chip,\n",
    "            used_pin_number,\n",
    "            online_order\n",
    "        ]\n",
    "        data = {\n",
    "            'distance_from_home': float(distance_from_home),\n",
    "            'distance_from_last_transaction': float(distance_from_last_transaction),\n",
    "            'ratio_to_median_purchase_price': float(ratio_to_median_purchase_price),\n",
    "            'repeat_retailer': int(repeat_retailer),\n",
    "            'used_chip': int(used_chip),\n",
    "            'used_pin_number': int(used_pin_number),\n",
    "            'online_order': int(online_order),\n",
    "        }\n",
    "        print(data)\n",
    "        df = pd.DataFrame([list(data.values())], columns=cols)\n",
    "\n",
    "        features_list = df.values.tolist()\n",
    "        prediction = model.predict(features_list)\n",
    "\n",
    "        output = int(prediction[0])\n",
    "        if output == 1:\n",
    "            text = \"Fraudent Transaction\"\n",
    "        else:\n",
    "            text = \"Non-Fraudent Transaction\"\n",
    "\n",
    "        st.success(text)\n",
    "      \n",
    "if __name__=='__main__': \n",
    "    main()"
   ]
  }
 ],
 "metadata": {
  "kernelspec": {
   "display_name": "Python 3 (ipykernel)",
   "language": "python",
   "name": "python3"
  },
  "language_info": {
   "codemirror_mode": {
    "name": "ipython",
    "version": 3
   },
   "file_extension": ".py",
   "mimetype": "text/x-python",
   "name": "python",
   "nbconvert_exporter": "python",
   "pygments_lexer": "ipython3",
   "version": "3.12.0"
  }
 },
 "nbformat": 4,
 "nbformat_minor": 5
}
